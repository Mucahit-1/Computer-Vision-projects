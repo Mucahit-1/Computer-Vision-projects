{
 "cells": [
  {
   "cell_type": "code",
   "execution_count": 1,
   "metadata": {},
   "outputs": [],
   "source": [
    "import numpy as np \n",
    "from numpy import genfromtxt"
   ]
  },
  {
   "cell_type": "code",
   "execution_count": 2,
   "metadata": {},
   "outputs": [],
   "source": [
    "data = genfromtxt(\"../DATA/bank_note_data.txt\",delimiter=\",\")"
   ]
  },
  {
   "cell_type": "code",
   "execution_count": 3,
   "metadata": {},
   "outputs": [
    {
     "data": {
      "text/plain": [
       "array([[  3.6216 ,   8.6661 ,  -2.8073 ,  -0.44699,   0.     ],\n",
       "       [  4.5459 ,   8.1674 ,  -2.4586 ,  -1.4621 ,   0.     ],\n",
       "       [  3.866  ,  -2.6383 ,   1.9242 ,   0.10645,   0.     ],\n",
       "       ...,\n",
       "       [ -3.7503 , -13.4586 ,  17.5932 ,  -2.7771 ,   1.     ],\n",
       "       [ -3.5637 ,  -8.3827 ,  12.393  ,  -1.2823 ,   1.     ],\n",
       "       [ -2.5419 ,  -0.65804,   2.6842 ,   1.1952 ,   1.     ]])"
      ]
     },
     "execution_count": 3,
     "metadata": {},
     "output_type": "execute_result"
    }
   ],
   "source": [
    "data"
   ]
  },
  {
   "cell_type": "code",
   "execution_count": 4,
   "metadata": {},
   "outputs": [
    {
     "data": {
      "text/plain": [
       "1372"
      ]
     },
     "execution_count": 4,
     "metadata": {},
     "output_type": "execute_result"
    }
   ],
   "source": [
    "len(data)"
   ]
  },
  {
   "cell_type": "code",
   "execution_count": 5,
   "metadata": {},
   "outputs": [],
   "source": [
    "labels = data[:,4]"
   ]
  },
  {
   "cell_type": "code",
   "execution_count": 6,
   "metadata": {},
   "outputs": [
    {
     "data": {
      "text/plain": [
       "array([0., 0., 0., ..., 1., 1., 1.])"
      ]
     },
     "execution_count": 6,
     "metadata": {},
     "output_type": "execute_result"
    }
   ],
   "source": [
    "labels"
   ]
  },
  {
   "cell_type": "code",
   "execution_count": 7,
   "metadata": {},
   "outputs": [],
   "source": [
    "features = data[:,0:4]"
   ]
  },
  {
   "cell_type": "code",
   "execution_count": 8,
   "metadata": {},
   "outputs": [
    {
     "data": {
      "text/plain": [
       "array([[  3.6216 ,   8.6661 ,  -2.8073 ,  -0.44699],\n",
       "       [  4.5459 ,   8.1674 ,  -2.4586 ,  -1.4621 ],\n",
       "       [  3.866  ,  -2.6383 ,   1.9242 ,   0.10645],\n",
       "       ...,\n",
       "       [ -3.7503 , -13.4586 ,  17.5932 ,  -2.7771 ],\n",
       "       [ -3.5637 ,  -8.3827 ,  12.393  ,  -1.2823 ],\n",
       "       [ -2.5419 ,  -0.65804,   2.6842 ,   1.1952 ]])"
      ]
     },
     "execution_count": 8,
     "metadata": {},
     "output_type": "execute_result"
    }
   ],
   "source": [
    "features"
   ]
  },
  {
   "cell_type": "code",
   "execution_count": 9,
   "metadata": {},
   "outputs": [],
   "source": [
    "X = features\n",
    "y = labels"
   ]
  },
  {
   "cell_type": "code",
   "execution_count": 10,
   "metadata": {},
   "outputs": [],
   "source": [
    "from sklearn.model_selection import train_test_split"
   ]
  },
  {
   "cell_type": "code",
   "execution_count": 11,
   "metadata": {},
   "outputs": [],
   "source": [
    "X_train, X_test, y_train, y_test = train_test_split(X, y, test_size=0.33, random_state=42)"
   ]
  },
  {
   "cell_type": "code",
   "execution_count": 12,
   "metadata": {},
   "outputs": [
    {
     "data": {
      "text/plain": [
       "919"
      ]
     },
     "execution_count": 12,
     "metadata": {},
     "output_type": "execute_result"
    }
   ],
   "source": [
    "len(X_train)"
   ]
  },
  {
   "cell_type": "code",
   "execution_count": 13,
   "metadata": {},
   "outputs": [
    {
     "data": {
      "text/plain": [
       "453"
      ]
     },
     "execution_count": 13,
     "metadata": {},
     "output_type": "execute_result"
    }
   ],
   "source": [
    "len(X_test)"
   ]
  },
  {
   "cell_type": "code",
   "execution_count": 14,
   "metadata": {},
   "outputs": [],
   "source": [
    "from sklearn.preprocessing import MinMaxScaler"
   ]
  },
  {
   "cell_type": "code",
   "execution_count": 15,
   "metadata": {},
   "outputs": [],
   "source": [
    "scaler_object = MinMaxScaler()"
   ]
  },
  {
   "cell_type": "code",
   "execution_count": 16,
   "metadata": {},
   "outputs": [
    {
     "data": {
      "text/plain": [
       "MinMaxScaler(copy=True, feature_range=(0, 1))"
      ]
     },
     "execution_count": 16,
     "metadata": {},
     "output_type": "execute_result"
    }
   ],
   "source": [
    "scaler_object.fit(X_train)\n",
    "#what this fit does is it basically just finds the minimum value and the maximum value\n",
    "#why we just fit X_train\n",
    "#That is because we want to make sure that this scalar object doesn't get to peek at any test data."
   ]
  },
  {
   "cell_type": "code",
   "execution_count": 17,
   "metadata": {},
   "outputs": [],
   "source": [
    "scaled_x_train = scaler_object.transform(X_train)"
   ]
  },
  {
   "cell_type": "code",
   "execution_count": 18,
   "metadata": {},
   "outputs": [],
   "source": [
    "scaled_x_test = scaler_object.transform(X_test)"
   ]
  },
  {
   "cell_type": "code",
   "execution_count": 19,
   "metadata": {},
   "outputs": [
    {
     "data": {
      "text/plain": [
       "1.0000000000000002"
      ]
     },
     "execution_count": 19,
     "metadata": {},
     "output_type": "execute_result"
    }
   ],
   "source": [
    "scaled_x_train.max()\n",
    "#the range after scaling is between 1 , 0"
   ]
  },
  {
   "cell_type": "code",
   "execution_count": 20,
   "metadata": {},
   "outputs": [
    {
     "data": {
      "text/plain": [
       "0.0"
      ]
     },
     "execution_count": 20,
     "metadata": {},
     "output_type": "execute_result"
    }
   ],
   "source": [
    "scaled_x_train.min()"
   ]
  },
  {
   "cell_type": "code",
   "execution_count": 21,
   "metadata": {},
   "outputs": [
    {
     "name": "stderr",
     "output_type": "stream",
     "text": [
      "Using TensorFlow backend.\n"
     ]
    }
   ],
   "source": [
    "from keras.models import Sequential\n",
    "# allows you to create models layer-by-layer for most problems\n",
    "from keras.layers import Dense\n",
    "# the layer that contains all the neurons that are deeply connected within themselves\n",
    "# Keras is a high-level neural network library that runs on top of TensorFlow."
   ]
  },
  {
   "cell_type": "code",
   "execution_count": 22,
   "metadata": {},
   "outputs": [],
   "source": [
    "model = Sequential()\n",
    "#first layer\n",
    "model.add(Dense(4,input_dim=4,activation=\"relu\"))\n",
    "#4 is num of neurons\n",
    "#hidden layer\n",
    "model.add(Dense(8,activation=\"relu\"))\n",
    "#last layer\n",
    "model.add(Dense(1,activation=\"sigmoid\"))"
   ]
  },
  {
   "cell_type": "code",
   "execution_count": 23,
   "metadata": {},
   "outputs": [],
   "source": [
    "model.compile(loss=\"binary_crossentropy\",optimizer=\"adam\",metrics=[\"accuracy\"])"
   ]
  },
  {
   "cell_type": "code",
   "execution_count": 24,
   "metadata": {},
   "outputs": [
    {
     "name": "stdout",
     "output_type": "stream",
     "text": [
      "Epoch 1/50\n",
      " - 6s - loss: 0.6876 - acc: 0.6344\n",
      "Epoch 2/50\n",
      " - 0s - loss: 0.6832 - acc: 0.6768\n",
      "Epoch 3/50\n",
      " - 0s - loss: 0.6775 - acc: 0.6888\n",
      "Epoch 4/50\n",
      " - 0s - loss: 0.6702 - acc: 0.6975\n",
      "Epoch 5/50\n",
      " - 0s - loss: 0.6602 - acc: 0.6812\n",
      "Epoch 6/50\n",
      " - 0s - loss: 0.6477 - acc: 0.6921\n",
      "Epoch 7/50\n",
      " - 0s - loss: 0.6350 - acc: 0.6964\n",
      "Epoch 8/50\n",
      " - 0s - loss: 0.6226 - acc: 0.7018\n",
      "Epoch 9/50\n",
      " - 0s - loss: 0.6098 - acc: 0.7051\n",
      "Epoch 10/50\n",
      " - 0s - loss: 0.5973 - acc: 0.7084\n",
      "Epoch 11/50\n",
      " - 0s - loss: 0.5845 - acc: 0.7193\n",
      "Epoch 12/50\n",
      " - 0s - loss: 0.5722 - acc: 0.7214\n",
      "Epoch 13/50\n",
      " - 0s - loss: 0.5564 - acc: 0.7432\n",
      "Epoch 14/50\n",
      " - 0s - loss: 0.5289 - acc: 0.7563\n",
      "Epoch 15/50\n",
      " - 0s - loss: 0.5028 - acc: 0.7715\n",
      "Epoch 16/50\n",
      " - 0s - loss: 0.4775 - acc: 0.7867\n",
      "Epoch 17/50\n",
      " - 0s - loss: 0.4531 - acc: 0.8009\n",
      "Epoch 18/50\n",
      " - 0s - loss: 0.4294 - acc: 0.8259\n",
      "Epoch 19/50\n",
      " - 0s - loss: 0.4058 - acc: 0.8487\n",
      "Epoch 20/50\n",
      " - 0s - loss: 0.3847 - acc: 0.8716\n",
      "Epoch 21/50\n",
      " - 0s - loss: 0.3644 - acc: 0.8792\n",
      "Epoch 22/50\n",
      " - 0s - loss: 0.3449 - acc: 0.8890\n",
      "Epoch 23/50\n",
      " - 0s - loss: 0.3260 - acc: 0.8988\n",
      "Epoch 24/50\n",
      " - 0s - loss: 0.3076 - acc: 0.9032\n",
      "Epoch 25/50\n",
      " - 0s - loss: 0.2900 - acc: 0.9086\n",
      "Epoch 26/50\n",
      " - 0s - loss: 0.2745 - acc: 0.9086\n",
      "Epoch 27/50\n",
      " - 0s - loss: 0.2602 - acc: 0.9184\n",
      "Epoch 28/50\n",
      " - 0s - loss: 0.2476 - acc: 0.9271\n",
      "Epoch 29/50\n",
      " - 0s - loss: 0.2355 - acc: 0.9325\n",
      "Epoch 30/50\n",
      " - 0s - loss: 0.2250 - acc: 0.9369\n",
      "Epoch 31/50\n",
      " - 0s - loss: 0.2144 - acc: 0.9380\n",
      "Epoch 32/50\n",
      " - 0s - loss: 0.2049 - acc: 0.9402\n",
      "Epoch 33/50\n",
      " - 0s - loss: 0.1957 - acc: 0.9434\n",
      "Epoch 34/50\n",
      " - 0s - loss: 0.1884 - acc: 0.9423\n",
      "Epoch 35/50\n",
      " - 0s - loss: 0.1799 - acc: 0.9445\n",
      "Epoch 36/50\n",
      " - 0s - loss: 0.1732 - acc: 0.9445\n",
      "Epoch 37/50\n",
      " - 0s - loss: 0.1665 - acc: 0.9456\n",
      "Epoch 38/50\n",
      " - 0s - loss: 0.1603 - acc: 0.9456\n",
      "Epoch 39/50\n",
      " - 0s - loss: 0.1537 - acc: 0.9478\n",
      "Epoch 40/50\n",
      " - 0s - loss: 0.1487 - acc: 0.9521\n",
      "Epoch 41/50\n",
      " - 0s - loss: 0.1446 - acc: 0.9499\n",
      "Epoch 42/50\n",
      " - 0s - loss: 0.1381 - acc: 0.9510\n",
      "Epoch 43/50\n",
      " - 0s - loss: 0.1341 - acc: 0.9532\n",
      "Epoch 44/50\n",
      " - 0s - loss: 0.1293 - acc: 0.9543\n",
      "Epoch 45/50\n",
      " - 0s - loss: 0.1255 - acc: 0.9543\n",
      "Epoch 46/50\n",
      " - 0s - loss: 0.1216 - acc: 0.9543\n",
      "Epoch 47/50\n",
      " - 0s - loss: 0.1193 - acc: 0.9597\n",
      "Epoch 48/50\n",
      " - 0s - loss: 0.1149 - acc: 0.9608\n",
      "Epoch 49/50\n",
      " - 0s - loss: 0.1100 - acc: 0.9630\n",
      "Epoch 50/50\n",
      " - 0s - loss: 0.1075 - acc: 0.9684\n"
     ]
    },
    {
     "data": {
      "text/plain": [
       "<keras.callbacks.History at 0x21660ff4b70>"
      ]
     },
     "execution_count": 24,
     "metadata": {},
     "output_type": "execute_result"
    }
   ],
   "source": [
    "model.fit(scaled_x_train,y_train,epochs=50,verbose=2)"
   ]
  },
  {
   "cell_type": "code",
   "execution_count": 26,
   "metadata": {},
   "outputs": [],
   "source": [
    "#model.predict_classes(scaled_x_test)\n",
    "#now we evaluate our model and fit our test set"
   ]
  },
  {
   "cell_type": "code",
   "execution_count": 28,
   "metadata": {},
   "outputs": [
    {
     "data": {
      "text/plain": [
       "['loss', 'acc']"
      ]
     },
     "execution_count": 28,
     "metadata": {},
     "output_type": "execute_result"
    }
   ],
   "source": [
    "model.metrics_names"
   ]
  },
  {
   "cell_type": "code",
   "execution_count": 29,
   "metadata": {},
   "outputs": [],
   "source": [
    "from sklearn.metrics import confusion_matrix , classification_report"
   ]
  },
  {
   "cell_type": "code",
   "execution_count": 30,
   "metadata": {},
   "outputs": [],
   "source": [
    "predictions = model.predict_classes(scaled_x_test)"
   ]
  },
  {
   "cell_type": "code",
   "execution_count": 32,
   "metadata": {},
   "outputs": [
    {
     "data": {
      "text/plain": [
       "array([[255,   2],\n",
       "       [ 10, 186]], dtype=int64)"
      ]
     },
     "execution_count": 32,
     "metadata": {},
     "output_type": "execute_result"
    }
   ],
   "source": [
    "confusion_matrix(y_test,predictions)"
   ]
  },
  {
   "cell_type": "code",
   "execution_count": 33,
   "metadata": {},
   "outputs": [
    {
     "name": "stdout",
     "output_type": "stream",
     "text": [
      "             precision    recall  f1-score   support\n",
      "\n",
      "        0.0       0.96      0.99      0.98       257\n",
      "        1.0       0.99      0.95      0.97       196\n",
      "\n",
      "avg / total       0.97      0.97      0.97       453\n",
      "\n"
     ]
    }
   ],
   "source": [
    "print(classification_report(y_test,predictions))"
   ]
  },
  {
   "cell_type": "code",
   "execution_count": 34,
   "metadata": {},
   "outputs": [],
   "source": [
    "model.save(\"mysupermodel.h5\")"
   ]
  },
  {
   "cell_type": "code",
   "execution_count": 35,
   "metadata": {},
   "outputs": [],
   "source": [
    "from keras.models import load_model"
   ]
  },
  {
   "cell_type": "code",
   "execution_count": 36,
   "metadata": {},
   "outputs": [],
   "source": [
    "newmodel = load_model(\"mysupermodel.h5\")"
   ]
  }
 ],
 "metadata": {
  "kernelspec": {
   "display_name": "Python 3",
   "language": "python",
   "name": "python3"
  },
  "language_info": {
   "codemirror_mode": {
    "name": "ipython",
    "version": 3
   },
   "file_extension": ".py",
   "mimetype": "text/x-python",
   "name": "python",
   "nbconvert_exporter": "python",
   "pygments_lexer": "ipython3",
   "version": "3.6.6"
  }
 },
 "nbformat": 4,
 "nbformat_minor": 2
}
